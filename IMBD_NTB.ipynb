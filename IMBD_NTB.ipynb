{
 "cells": [
  {
   "cell_type": "code",
   "execution_count": 1,
   "metadata": {},
   "outputs": [],
   "source": [
    "# Import Basics Packages\n",
    "import matplotlib.pyplot as plt\n",
    "import pandas as pd\n",
    "import numpy as np\n",
    "import nltk\n",
    "import string\n",
    "import re\n",
    "\n",
    "from sklearn.feature_extraction.text import CountVectorizer\n",
    "from sklearn.metrics.pairwise import cosine_similarity\n",
    "from sklearn.model_selection import train_test_split\n",
    "from nltk import sent_tokenize,word_tokenize\n",
    "from nltk.stem import WordNetLemmatizer\n",
    "from nltk.corpus import stopwords\n",
    "from nltk.stem.porter import *"
   ]
  },
  {
   "cell_type": "code",
   "execution_count": 2,
   "metadata": {},
   "outputs": [
    {
     "data": {
      "text/html": [
       "<div>\n",
       "<style scoped>\n",
       "    .dataframe tbody tr th:only-of-type {\n",
       "        vertical-align: middle;\n",
       "    }\n",
       "\n",
       "    .dataframe tbody tr th {\n",
       "        vertical-align: top;\n",
       "    }\n",
       "\n",
       "    .dataframe thead th {\n",
       "        text-align: right;\n",
       "    }\n",
       "</style>\n",
       "<table border=\"1\" class=\"dataframe\">\n",
       "  <thead>\n",
       "    <tr style=\"text-align: right;\">\n",
       "      <th></th>\n",
       "      <th>Text</th>\n",
       "      <th>Sentiment</th>\n",
       "    </tr>\n",
       "  </thead>\n",
       "  <tbody>\n",
       "    <tr>\n",
       "      <th>0</th>\n",
       "      <td>I grew up (b. 1965) watching and loving the Th...</td>\n",
       "      <td>0</td>\n",
       "    </tr>\n",
       "    <tr>\n",
       "      <th>1</th>\n",
       "      <td>When I put this movie in my DVD player, and sa...</td>\n",
       "      <td>0</td>\n",
       "    </tr>\n",
       "    <tr>\n",
       "      <th>2</th>\n",
       "      <td>Why do people who do not know what a particula...</td>\n",
       "      <td>0</td>\n",
       "    </tr>\n",
       "    <tr>\n",
       "      <th>3</th>\n",
       "      <td>Even though I have great interest in Biblical ...</td>\n",
       "      <td>0</td>\n",
       "    </tr>\n",
       "    <tr>\n",
       "      <th>4</th>\n",
       "      <td>Im a die hard Dads Army fan and nothing will e...</td>\n",
       "      <td>1</td>\n",
       "    </tr>\n",
       "    <tr>\n",
       "      <th>...</th>\n",
       "      <td>...</td>\n",
       "      <td>...</td>\n",
       "    </tr>\n",
       "    <tr>\n",
       "      <th>39995</th>\n",
       "      <td>\"Western Union\" is something of a forgotten cl...</td>\n",
       "      <td>1</td>\n",
       "    </tr>\n",
       "    <tr>\n",
       "      <th>39996</th>\n",
       "      <td>This movie is an incredible piece of work. It ...</td>\n",
       "      <td>1</td>\n",
       "    </tr>\n",
       "    <tr>\n",
       "      <th>39997</th>\n",
       "      <td>My wife and I watched this movie because we pl...</td>\n",
       "      <td>0</td>\n",
       "    </tr>\n",
       "    <tr>\n",
       "      <th>39998</th>\n",
       "      <td>When I first watched Flatliners, I was amazed....</td>\n",
       "      <td>1</td>\n",
       "    </tr>\n",
       "    <tr>\n",
       "      <th>39999</th>\n",
       "      <td>Why would this film be so good, but only gross...</td>\n",
       "      <td>1</td>\n",
       "    </tr>\n",
       "  </tbody>\n",
       "</table>\n",
       "<p>40000 rows × 2 columns</p>\n",
       "</div>"
      ],
      "text/plain": [
       "                                                    Text  Sentiment\n",
       "0      I grew up (b. 1965) watching and loving the Th...          0\n",
       "1      When I put this movie in my DVD player, and sa...          0\n",
       "2      Why do people who do not know what a particula...          0\n",
       "3      Even though I have great interest in Biblical ...          0\n",
       "4      Im a die hard Dads Army fan and nothing will e...          1\n",
       "...                                                  ...        ...\n",
       "39995  \"Western Union\" is something of a forgotten cl...          1\n",
       "39996  This movie is an incredible piece of work. It ...          1\n",
       "39997  My wife and I watched this movie because we pl...          0\n",
       "39998  When I first watched Flatliners, I was amazed....          1\n",
       "39999  Why would this film be so good, but only gross...          1\n",
       "\n",
       "[40000 rows x 2 columns]"
      ]
     },
     "execution_count": 2,
     "metadata": {},
     "output_type": "execute_result"
    }
   ],
   "source": [
    "# Read in data from CSV\n",
    "df = pd.read_csv('./IMBD/movie.csv')\n",
    "df.columns =['Text', 'Sentiment']\n",
    "df"
   ]
  },
  {
   "cell_type": "code",
   "execution_count": 3,
   "metadata": {},
   "outputs": [
    {
     "data": {
      "text/html": [
       "<div>\n",
       "<style scoped>\n",
       "    .dataframe tbody tr th:only-of-type {\n",
       "        vertical-align: middle;\n",
       "    }\n",
       "\n",
       "    .dataframe tbody tr th {\n",
       "        vertical-align: top;\n",
       "    }\n",
       "\n",
       "    .dataframe thead th {\n",
       "        text-align: right;\n",
       "    }\n",
       "</style>\n",
       "<table border=\"1\" class=\"dataframe\">\n",
       "  <thead>\n",
       "    <tr style=\"text-align: right;\">\n",
       "      <th></th>\n",
       "      <th>Text</th>\n",
       "      <th>Sentiment</th>\n",
       "    </tr>\n",
       "  </thead>\n",
       "  <tbody>\n",
       "    <tr>\n",
       "      <th>12836</th>\n",
       "      <td>Wow. At first I thought who writes these thing...</td>\n",
       "      <td>1</td>\n",
       "    </tr>\n",
       "    <tr>\n",
       "      <th>10913</th>\n",
       "      <td>Not only is this a very interesting exploratio...</td>\n",
       "      <td>1</td>\n",
       "    </tr>\n",
       "    <tr>\n",
       "      <th>4214</th>\n",
       "      <td>Stewart is a Wyoming cattleman who dreams to m...</td>\n",
       "      <td>1</td>\n",
       "    </tr>\n",
       "    <tr>\n",
       "      <th>8198</th>\n",
       "      <td>Rachael Ray appeals to viewers of all ages and...</td>\n",
       "      <td>1</td>\n",
       "    </tr>\n",
       "    <tr>\n",
       "      <th>31403</th>\n",
       "      <td>I remembered this show from when i was a kid. ...</td>\n",
       "      <td>0</td>\n",
       "    </tr>\n",
       "    <tr>\n",
       "      <th>...</th>\n",
       "      <td>...</td>\n",
       "      <td>...</td>\n",
       "    </tr>\n",
       "    <tr>\n",
       "      <th>30130</th>\n",
       "      <td>I saw this film for the first time not too lon...</td>\n",
       "      <td>0</td>\n",
       "    </tr>\n",
       "    <tr>\n",
       "      <th>34016</th>\n",
       "      <td>Wow...OK. So, after reading the little feud on...</td>\n",
       "      <td>0</td>\n",
       "    </tr>\n",
       "    <tr>\n",
       "      <th>12375</th>\n",
       "      <td>This movie was fun, if all over the board.&lt;br ...</td>\n",
       "      <td>1</td>\n",
       "    </tr>\n",
       "    <tr>\n",
       "      <th>16641</th>\n",
       "      <td>The movie is great and I like the story. I pre...</td>\n",
       "      <td>1</td>\n",
       "    </tr>\n",
       "    <tr>\n",
       "      <th>24662</th>\n",
       "      <td>This movie is obviously low-budget &amp; filmed in...</td>\n",
       "      <td>1</td>\n",
       "    </tr>\n",
       "  </tbody>\n",
       "</table>\n",
       "<p>6000 rows × 2 columns</p>\n",
       "</div>"
      ],
      "text/plain": [
       "                                                    Text  Sentiment\n",
       "12836  Wow. At first I thought who writes these thing...          1\n",
       "10913  Not only is this a very interesting exploratio...          1\n",
       "4214   Stewart is a Wyoming cattleman who dreams to m...          1\n",
       "8198   Rachael Ray appeals to viewers of all ages and...          1\n",
       "31403  I remembered this show from when i was a kid. ...          0\n",
       "...                                                  ...        ...\n",
       "30130  I saw this film for the first time not too lon...          0\n",
       "34016  Wow...OK. So, after reading the little feud on...          0\n",
       "12375  This movie was fun, if all over the board.<br ...          1\n",
       "16641  The movie is great and I like the story. I pre...          1\n",
       "24662  This movie is obviously low-budget & filmed in...          1\n",
       "\n",
       "[6000 rows x 2 columns]"
      ]
     },
     "execution_count": 3,
     "metadata": {},
     "output_type": "execute_result"
    }
   ],
   "source": [
    "# Downsample the data to ~6000 samples\n",
    "percentage = 0.15\n",
    "df_downsampled = df.sample(frac=percentage,random_state=0)\n",
    "df_downsampled"
   ]
  },
  {
   "cell_type": "code",
   "execution_count": 4,
   "metadata": {},
   "outputs": [
    {
     "name": "stdout",
     "output_type": "stream",
     "text": [
      "Data set has no NULL values.\n"
     ]
    }
   ],
   "source": [
    "# Check for Null Values\n",
    "if ( not df.isnull().values.any() ):\n",
    "    print(\"Data set has no NULL values.\")\n",
    "else:\n",
    "    null_tweets = df_downsampled[df_downsampled['Tweet'].isnull()].index.tolist()\n",
    "    print(\"Null Tweets exist in Training Set. Dropping\", len(null_tweets), \"rows\")\n",
    "    df_downsampled.dropna(subset = [\"Tweet\"], inplace=True)\n",
    "    print(\"Null values Exist In X,Y Training Set:\", df_downsampled.isnull().values.any())"
   ]
  },
  {
   "cell_type": "code",
   "execution_count": 5,
   "metadata": {},
   "outputs": [],
   "source": [
    "# Train/Test Split\n",
    "x = df_downsampled['Text']\n",
    "y = df_downsampled['Sentiment']\n",
    "TrainXdf,TestXdf, TrainYdf, TestYdf = train_test_split(x, y,test_size=.2, random_state=2)"
   ]
  },
  {
   "cell_type": "code",
   "execution_count": 6,
   "metadata": {},
   "outputs": [
    {
     "data": {
      "image/png": "[encoded data removed]",
      "text/plain": [
       "<Figure size 576x360 with 1 Axes>"
      ]
     },
     "metadata": {
      "needs_background": "light"
     },
     "output_type": "display_data"
    }
   ],
   "source": [
    "# Visual of Training Samples' Outcomes - Even Distribution of Outcomes\n",
    "sent_count = TrainYdf.value_counts()\n",
    "plt.figure(figsize=(8, 5))\n",
    "w = 0.35  \n",
    "plt.bar(x=np.arange(len(sent_count)), height=sent_count, width = w)\n",
    "\n",
    "plt.xticks(np.arange(len(sent_count)), sent_count.index.tolist())\n",
    "plt.xlabel('IMBD Movie Review Sentiment Value')\n",
    "plt.ylabel('IMBD Movie Review Sentiment Value Count')\n",
    "plt.title('IMBD Movie Review Sentiment Value Frequency')\n",
    "\n",
    "plt.show()"
   ]
  },
  {
   "cell_type": "code",
   "execution_count": 7,
   "metadata": {},
   "outputs": [
    {
     "name": "stdout",
     "output_type": "stream",
     "text": [
      "(4800, 700)\n",
      "(1200, 700)\n"
     ]
    }
   ],
   "source": [
    "# \"One-Hot Encoding\" Function that converts the Tweets to Numerical Arrays\n",
    "def oneHotEnc(Tweet):\n",
    "    token_item = []\n",
    "\n",
    "    for letter in Tweet:\n",
    "        if ord(letter) >= ord('a') and ord(letter) <= ord('z'):\n",
    "            token_item.append(ord(letter) - ord('a'))\n",
    "        elif letter == ' ':\n",
    "            token_item.append(-1)\n",
    "        else:\n",
    "            pass\n",
    "\n",
    "    return token_item\n",
    "\n",
    "# Function that Pre-Processes the Tweets\n",
    "def PreProcess(tweets):\n",
    "    pre_procc_tweets = []\n",
    "\n",
    "    for tweet in tweets:\n",
    "        procc_tweet = oneHotEnc(tweet)\n",
    "        pre_procc_tweets.append(procc_tweet)\n",
    "        \n",
    "    return pre_procc_tweets\n",
    "\n",
    "# Encoding method (1 for NGRAM, 0 for TOKENIZATION)\n",
    "method = 0\n",
    "\n",
    "# Max Number of features for Tokenization\n",
    "max_features = 700\n",
    "\n",
    "# Pre-Process the Tweets and Get Finalized Training and Testing Sets\n",
    "if (method ==1):\n",
    "    TrainXdf = PreProcess(TrainXdf)\n",
    "    TestXdf = PreProcess(TestXdf)\n",
    "\n",
    "if (method ==0):\n",
    "    cnt = CountVectorizer(analyzer=\"word\", ngram_range=(1,1), max_features=max_features)\n",
    "    TrainXdf = cnt.fit_transform(TrainXdf).toarray()\n",
    "    TestXdf=cnt.transform(TestXdf).toarray()\n",
    "\n",
    "TrainYdf=np.array(TrainYdf)\n",
    "TestYdf=np.array(TestYdf)\n",
    "\n",
    "print(TrainXdf.shape)\n",
    "print(TestXdf.shape)"
   ]
  },
  {
   "cell_type": "code",
   "execution_count": 8,
   "metadata": {},
   "outputs": [],
   "source": [
    "# Item Memory Generation Function, NGRAM\n",
    "def itemMemGen_NGRAM(dim=10000, num_char=37):\n",
    "    dictMem = np.random.randint(2, size=(num_char, dim), dtype='int32')\n",
    "    return dictMem\n",
    "# Item Memory Generation Function, TOKENIZATION\n",
    "def itemMemGen_TOKEN(features, dim=10000):\n",
    "    dictMem = np.random.randint(2, size=(features, dim), dtype='int32')\n",
    "    return dictMem\n",
    "\n",
    "# Hyperparamaters\n",
    "HV_dim = 10000\n",
    "num_supported_chars = 27\n",
    "\n",
    "# Item Memory Generation\n",
    "if (method ==1):\n",
    "    itemMem = itemMemGen_NGRAM(dim=HV_dim, num_char=num_supported_chars)\n",
    "else:\n",
    "    itemMem = itemMemGen_TOKEN(features=len(TrainXdf[0]), dim=HV_dim)"
   ]
  },
  {
   "cell_type": "code",
   "execution_count": 9,
   "metadata": {},
   "outputs": [
    {
     "name": "stdout",
     "output_type": "stream",
     "text": [
      "(1, 10000)\n"
     ]
    },
    {
     "data": {
      "text/plain": [
       "array([[189583, 170011, 208952, ..., 189409, 209844, 199561],\n",
       "       [189716, 164935, 204242, ..., 183770, 208822, 203827]])"
      ]
     },
     "execution_count": 9,
     "metadata": {},
     "output_type": "execute_result"
    }
   ],
   "source": [
    "# Function for Encoding a Tweet into a HV\n",
    "def encode(tweet, itemMem, method, HV_dim=10000, n_gram_len=3):\n",
    "    if (method==1):\n",
    "        tweet_HV = np.zeros(HV_dim, dtype='int32')\n",
    "\n",
    "        for ngram_start in range(0, len(tweet)-n_gram_len, 3):\n",
    "            roll_value=n_gram_len\n",
    "            for j in range(n_gram_len):\n",
    "                letterHV = itemMem[tweet[ngram_start + j]]\n",
    "\n",
    "                if (j==0):\n",
    "                    product = letterHV\n",
    "                elif (j==n_gram_len-1):\n",
    "                    product = product * np.roll(letterHV, roll_value)\n",
    "                    tweet_HV = np.add(tweet_HV, product)\n",
    "                else:\n",
    "                    product = product * np.roll(letterHV, roll_value)\n",
    "                    \n",
    "                roll_value = roll_value - 1\n",
    "\n",
    "        HV_avg = np.average(tweet_HV)\n",
    "        tweet_HV[tweet_HV > HV_avg] = 1\n",
    "        tweet_HV[tweet_HV < HV_avg] = -1\n",
    "        tweet_HV[tweet_HV == HV_avg] = 0\n",
    "        return tweet_HV\n",
    "    else:\n",
    "        return tweet.dot(itemMem)\n",
    "\n",
    "# HDC Training Function Creates Associative Memory\n",
    "def train(X, Y, itemMem, HV_dim, sent_count, n_gram_len, method):\n",
    "    assocMem = np.zeros((sent_count, HV_dim), dtype='int32')\n",
    "    encodedTweets=[]\n",
    "    tweet_idx = 0\n",
    "    \n",
    "    for tweet in X:\n",
    "        tweet_HV = encode(tweet.reshape(1, len(tweet)), itemMem, method, HV_dim, n_gram_len)\n",
    "        if (tweet_idx==0):\n",
    "            print(tweet_HV.shape)\n",
    "        assocMem[Y[tweet_idx]] = np.add(assocMem[Y[tweet_idx]], tweet_HV)\n",
    "        tweet_idx += 1\n",
    "\n",
    "    return assocMem\n",
    "\n",
    "n_gram_len = 3\n",
    "assocMem = train(TrainXdf, TrainYdf, itemMem, HV_dim, len(sent_count), n_gram_len, method)\n",
    "assocMem"
   ]
  },
  {
   "cell_type": "code",
   "execution_count": 10,
   "metadata": {},
   "outputs": [
    {
     "name": "stdout",
     "output_type": "stream",
     "text": [
      "One Shot Accuracy:  61.5\n"
     ]
    }
   ],
   "source": [
    "# Function Compares Input HV to Class HVs and Returns the Predicted Class\n",
    "def get_prediction(assocMem, inputHV):\n",
    "    pred = assocMem[0]\n",
    "    maximum = np.NINF\n",
    "\n",
    "    for index in range(len(assocMem)):\n",
    "        similarity = cosine_similarity([inputHV, assocMem[index]])[0][1]  \n",
    "        if (similarity > maximum):\n",
    "            pred = index\n",
    "            maximum = similarity\n",
    "\n",
    "    return pred\n",
    "\n",
    "# Function Tests the Model and Return Accuracy of Model\n",
    "def test(HV_dim, n_gram_len, itemMem, assocMem, TestXdf, TestYdf, method):\n",
    "    correct_count = 0\n",
    "\n",
    "    for index in range(len(TestXdf)):\n",
    "        prediction = get_prediction(assocMem, encode(TestXdf[index], itemMem, method, HV_dim, n_gram_len))\n",
    "        if (TestYdf[index] == prediction):\n",
    "            correct_count += 1\n",
    "            \n",
    "    accuracy = (correct_count / len(TestYdf)) * 100\n",
    "    return accuracy\n",
    "\n",
    "# One-Shot Training Results\n",
    "one_shot_accuracy=test(HV_dim, n_gram_len, itemMem, assocMem, TestXdf, TestYdf, method)\n",
    "print(\"One Shot Accuracy: \", one_shot_accuracy)"
   ]
  },
  {
   "cell_type": "code",
   "execution_count": 11,
   "metadata": {},
   "outputs": [
    {
     "name": "stdout",
     "output_type": "stream",
     "text": [
      "-------- Retraining Model:  20  Epochs --------\n",
      "start\n",
      "Epoch  1 :  75.5\n",
      "start\n",
      "Epoch  2 :  78.33333333333333\n",
      "start\n",
      "Epoch  3 :  75.91666666666667\n",
      "start\n",
      "Epoch  4 :  77.41666666666667\n",
      "start\n",
      "Epoch  5 :  78.83333333333333\n",
      "start\n",
      "Epoch  6 :  75.83333333333333\n",
      "start\n",
      "Epoch  7 :  77.41666666666667\n",
      "start\n",
      "Epoch  8 :  78.5\n",
      "start\n"
     ]
    }
   ],
   "source": [
    "def retrain(X, Y, itemMem, assocMem, HV_dim, n_gram_len, method, alpha):\n",
    "    tweet_index = 0\n",
    "    print(\"start\")\n",
    "    for tweet in X:\n",
    "        tweet_HV = encode(tweet, itemMem, method, HV_dim, n_gram_len)\n",
    "        prediction = get_prediction(assocMem, tweet_HV)\n",
    "        if prediction != Y[tweet_index]:\n",
    "            assocMem[Y[tweet_index]] = np.add(assocMem[Y[tweet_index]], alpha * tweet_HV)\n",
    "            assocMem[prediction] = np.subtract(assocMem[prediction], alpha * tweet_HV)\n",
    "        tweet_index += 1\n",
    "        if(tweet_index%10000 == 0):\n",
    "            print(\"still going\", tweet_index)\n",
    "    return assocMem\n",
    "\n",
    "# Re-Train Model\n",
    "num_epochs = 20\n",
    "print('-------- Retraining Model: ', num_epochs, ' Epochs --------')\n",
    "for epoch in range(num_epochs):\n",
    "    assocMem = retrain(TrainXdf, TrainYdf ,itemMem, assocMem, HV_dim, n_gram_len, method, alpha = num_epochs - epoch)\n",
    "    acc = test(HV_dim, n_gram_len, itemMem, assocMem, TestXdf, TestYdf, method)\n",
    "    print('Epoch ', (epoch+1), ': ', acc)"
   ]
  }
 ],
 "metadata": {
  "interpreter": {
   "hash": "071eaeccc96c6410cecdb330bf8e8ae0267d24b86e05481c728d399cbe7cbc33"
  },
  "kernelspec": {
   "display_name": "Python 3.8.5 64-bit ('aml': conda)",
   "language": "python",
   "name": "python3"
  },
  "language_info": {
   "codemirror_mode": {
    "name": "ipython",
    "version": 3
   },
   "file_extension": ".py",
   "mimetype": "text/x-python",
   "name": "python",
   "nbconvert_exporter": "python",
   "pygments_lexer": "ipython3",
   "version": "3.8.5"
  },
  "orig_nbformat": 4
 },
 "nbformat": 4,
 "nbformat_minor": 2
}
